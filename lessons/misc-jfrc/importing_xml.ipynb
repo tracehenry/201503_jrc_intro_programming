{
 "metadata": {
  "name": "",
  "signature": "sha256:27edccc04e1873b069c8cc1890f6566c3ee54e169f1d98d27860338735137d4c"
 },
 "nbformat": 3,
 "nbformat_minor": 0,
 "worksheets": [
  {
   "cells": [
    {
     "cell_type": "code",
     "collapsed": false,
     "input": [],
     "language": "python",
     "metadata": {},
     "outputs": []
    },
    {
     "cell_type": "code",
     "collapsed": false,
     "input": [],
     "language": "python",
     "metadata": {},
     "outputs": []
    },
    {
     "cell_type": "code",
     "collapsed": false,
     "input": [
      "import xml.etree.ElementTree as ET\n",
      "tree = ET.parse('assay_metadata.xml')\n",
      "root = tree.getroot()\n",
      "print root"
     ],
     "language": "python",
     "metadata": {},
     "outputs": [
      {
       "output_type": "stream",
       "stream": "stdout",
       "text": [
        "<Element 'experiment' at 0x393a668>\n"
       ]
      }
     ],
     "prompt_number": 1
    },
    {
     "cell_type": "code",
     "collapsed": false,
     "input": [
      "root.tag"
     ],
     "language": "python",
     "metadata": {},
     "outputs": [
      {
       "metadata": {},
       "output_type": "pyout",
       "prompt_number": 5,
       "text": [
        "'experiment'"
       ]
      }
     ],
     "prompt_number": 5
    },
    {
     "cell_type": "code",
     "collapsed": false,
     "input": [
      "root.attrib"
     ],
     "language": "python",
     "metadata": {},
     "outputs": [
      {
       "metadata": {},
       "output_type": "pyout",
       "prompt_number": 4,
       "text": [
        "{'archive_behavior': 'default',\n",
        " 'archive_path': '',\n",
        " 'assay': 'fly_olympiad_box',\n",
        " 'exp_datetime': '20140507T124629',\n",
        " 'experimenter': 'rowellw',\n",
        " 'flag_aborted': '0',\n",
        " 'flag_legacy': '0',\n",
        " 'flag_redo': '0',\n",
        " 'flag_review': '0',\n",
        " 'protocol': 'EP_Box_v004p1.xlsx',\n",
        " 'requesting_lab': '',\n",
        " 'screen_reason': 'standard',\n",
        " 'screen_type': 'primary',\n",
        " 'transfer_behavior': 'move',\n",
        " 'transfer_path': '/groups/sciserv/centralcomplex/box_data'}"
       ]
      }
     ],
     "prompt_number": 4
    },
    {
     "cell_type": "code",
     "collapsed": false,
     "input": [
      "for child in root:\n",
      "    print child.tag, child.attrib"
     ],
     "language": "python",
     "metadata": {},
     "outputs": [
      {
       "output_type": "stream",
       "stream": "stdout",
       "text": [
        "apparatus {'box': 'Apollo', 'computer': 'Olympiad-Apollo', 'apparatus_id': '1407879', 'room': '2C.310.2'}\n",
        "session {'id': '1'}\n",
        "session {'id': '2'}\n",
        "session {'id': '3'}\n",
        "session {'id': '4'}\n",
        "session {'id': '5'}\n",
        "session {'id': '6'}\n",
        "environment {'temperature': '32.4', 'humidity': '30.4'}\n",
        "notes_behavioral {}\n",
        "notes_technical {}\n",
        "notes_keyword {}\n"
       ]
      }
     ],
     "prompt_number": 6
    },
    {
     "cell_type": "code",
     "collapsed": false,
     "input": [
      "root.find('apparatus').attrib"
     ],
     "language": "python",
     "metadata": {},
     "outputs": [
      {
       "metadata": {},
       "output_type": "pyout",
       "prompt_number": 20,
       "text": [
        "{'apparatus_id': '1407879',\n",
        " 'box': 'Apollo',\n",
        " 'computer': 'Olympiad-Apollo',\n",
        " 'room': '2C.310.2'}"
       ]
      }
     ],
     "prompt_number": 20
    },
    {
     "cell_type": "code",
     "collapsed": false,
     "input": [
      "root.find('apparatus').attrib['box']"
     ],
     "language": "python",
     "metadata": {},
     "outputs": [
      {
       "metadata": {},
       "output_type": "pyout",
       "prompt_number": 18,
       "text": [
        "'Apollo'"
       ]
      }
     ],
     "prompt_number": 18
    },
    {
     "cell_type": "code",
     "collapsed": false,
     "input": [
      "len(root.findall('session'))"
     ],
     "language": "python",
     "metadata": {},
     "outputs": [
      {
       "metadata": {},
       "output_type": "pyout",
       "prompt_number": 27,
       "text": [
        "6"
       ]
      }
     ],
     "prompt_number": 27
    },
    {
     "cell_type": "code",
     "collapsed": false,
     "input": [
      "print root.findall('session')[0].tag\n",
      "print root.findall('session')[0].attrib"
     ],
     "language": "python",
     "metadata": {},
     "outputs": [
      {
       "output_type": "stream",
       "stream": "stdout",
       "text": [
        "session\n",
        "{'id': '1'}\n"
       ]
      }
     ],
     "prompt_number": 30
    },
    {
     "cell_type": "code",
     "collapsed": false,
     "input": [
      "root.findall('session')[0][0].tag\n",
      "root.findall('session')[0][0].attrib"
     ],
     "language": "python",
     "metadata": {},
     "outputs": [
      {
       "metadata": {},
       "output_type": "pyout",
       "prompt_number": 36,
       "text": [
        "{'cross_barcode': '85744',\n",
        " 'cross_date': '20140421T000000',\n",
        " 'effector': 'CTRL_DL_1500090_0028',\n",
        " 'flip_date': '20140421T000000',\n",
        " 'flip_used': '0',\n",
        " 'gender': 'm',\n",
        " 'line': 'FCF_pBDPGAL4U_1500437',\n",
        " 'num_flies': '15',\n",
        " 'num_flies_dead': '0',\n",
        " 'robot_stock_copy': 'unknown',\n",
        " 'wish_list': '171'}"
       ]
      }
     ],
     "prompt_number": 36
    },
    {
     "cell_type": "code",
     "collapsed": false,
     "input": [],
     "language": "python",
     "metadata": {},
     "outputs": []
    },
    {
     "cell_type": "code",
     "collapsed": false,
     "input": [],
     "language": "python",
     "metadata": {},
     "outputs": []
    },
    {
     "cell_type": "code",
     "collapsed": false,
     "input": [],
     "language": "python",
     "metadata": {},
     "outputs": []
    }
   ],
   "metadata": {}
  }
 ]
}