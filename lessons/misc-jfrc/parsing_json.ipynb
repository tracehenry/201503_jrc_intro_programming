{
 "metadata": {
  "name": "",
  "signature": "sha256:6888f3a992096132e279375faf23c59fe00bec8029ba86121e36eba37f209260"
 },
 "nbformat": 3,
 "nbformat_minor": 0,
 "worksheets": [
  {
   "cells": [
    {
     "cell_type": "markdown",
     "metadata": {},
     "source": [
      "# Parsing JSON files\n",
      "\n",
      "JSON is a type of structured text that is meant to be used to pass information between programs.  It has the added benefit of being relatively human-readable."
     ]
    },
    {
     "cell_type": "code",
     "collapsed": false,
     "input": [
      "import json"
     ],
     "language": "python",
     "metadata": {},
     "outputs": []
    },
    {
     "cell_type": "code",
     "collapsed": false,
     "input": [
      "reader = open('./demo.json', 'r')\n",
      "my_json = json.load(reader)\n",
      "reader.close()"
     ],
     "language": "python",
     "metadata": {},
     "outputs": []
    },
    {
     "cell_type": "code",
     "collapsed": false,
     "input": [
      "type(my_json)"
     ],
     "language": "python",
     "metadata": {},
     "outputs": []
    },
    {
     "cell_type": "code",
     "collapsed": false,
     "input": [
      "my_json[0]"
     ],
     "language": "python",
     "metadata": {},
     "outputs": []
    },
    {
     "cell_type": "code",
     "collapsed": false,
     "input": [
      "my_json[0]['gender']"
     ],
     "language": "python",
     "metadata": {},
     "outputs": []
    },
    {
     "cell_type": "code",
     "collapsed": false,
     "input": [
      "len(my_json[0]['friends'])"
     ],
     "language": "python",
     "metadata": {},
     "outputs": []
    },
    {
     "cell_type": "code",
     "collapsed": false,
     "input": [
      "my_json[0]['friends'][0]"
     ],
     "language": "python",
     "metadata": {},
     "outputs": []
    },
    {
     "cell_type": "markdown",
     "metadata": {},
     "source": [
      "# Web interfaces\n",
      "\n",
      "We can also interact directly with webservers and parse JSON responses."
     ]
    },
    {
     "cell_type": "code",
     "collapsed": false,
     "input": [
      "import json\n",
      "import urllib2\n",
      "\n",
      "response = urllib2.urlopen('http://c06u27.int.janelia.org/api/datasets/info')\n",
      "data = json.load(response)\n",
      "\n",
      "data.keys()"
     ],
     "language": "python",
     "metadata": {},
     "outputs": []
    }
   ],
   "metadata": {}
  }
 ]
}