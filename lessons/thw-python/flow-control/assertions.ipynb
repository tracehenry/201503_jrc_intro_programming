{
 "metadata": {
  "name": "",
  "signature": "sha256:6815c08627cb8d53cb8c4d210ea758c57f9d55dbbac40cd9c980efb666adff4b"
 },
 "nbformat": 3,
 "nbformat_minor": 0,
 "worksheets": [
  {
   "cells": [
    {
     "cell_type": "heading",
     "level": 2,
     "metadata": {},
     "source": [
      "Simple 'tests' using assertions"
     ]
    },
    {
     "cell_type": "markdown",
     "metadata": {},
     "source": [
      "Sometimes we might want to test our inputs before starting some sort of time-consuming operation.  A quick way to test for this is to use an assertion."
     ]
    },
    {
     "cell_type": "code",
     "collapsed": false,
     "input": [
      "def fahr_to_cel(fahr):\n",
      "    '''Input fahrenheit temperature, output celsious temperature.'''\n",
      "    return (fahr-32) * 5/9.0"
     ],
     "language": "python",
     "metadata": {},
     "outputs": []
    },
    {
     "cell_type": "markdown",
     "metadata": {},
     "source": [
      "This is our old friend, the Fahrenheit to Celsius conversion.  It isn't computationally expensive, but let's pretend that it is."
     ]
    },
    {
     "cell_type": "code",
     "collapsed": false,
     "input": [
      "print '98.6 in F is ', fahr_to_cel(98.6), 'in C'"
     ],
     "language": "python",
     "metadata": {},
     "outputs": []
    },
    {
     "cell_type": "code",
     "collapsed": false,
     "input": [
      "print '\"dog\" in in F is', fahr_to_cel(\"dog\"), 'in C'"
     ],
     "language": "python",
     "metadata": {},
     "outputs": []
    },
    {
     "cell_type": "markdown",
     "metadata": {},
     "source": [
      "It fails for strings (no big surprise).  Let's re-write the function, but this time we'll test to make sure the input is numerical.  First, we can use the `assert` statement."
     ]
    },
    {
     "cell_type": "code",
     "collapsed": false,
     "input": [
      "assert type('hello') is str\n",
      "assert type(4) is int\n",
      "assert type(4.0) is float"
     ],
     "language": "python",
     "metadata": {},
     "outputs": []
    },
    {
     "cell_type": "markdown",
     "metadata": {},
     "source": [
      "`assert` will test whether the following statement is True.  If it is True, nothing happens (like above).  Let's see what happens if the statement is False."
     ]
    },
    {
     "cell_type": "code",
     "collapsed": false,
     "input": [
      "assert type(4) is str"
     ],
     "language": "python",
     "metadata": {},
     "outputs": []
    },
    {
     "cell_type": "markdown",
     "metadata": {},
     "source": [
      "So let's add an assertion to our script to check for non-numerical input."
     ]
    },
    {
     "cell_type": "code",
     "collapsed": false,
     "input": [
      "def fahr_to_cel(fahr):\n",
      "    '''Input fahrenheit temperature, output celsious temperature.'''\n",
      "    assert (type(fahr) is int) or (type(fahr) is float)\n",
      "    return (fahr-32) * 5/9.0"
     ],
     "language": "python",
     "metadata": {},
     "outputs": []
    },
    {
     "cell_type": "code",
     "collapsed": false,
     "input": [
      "fahr_to_cel('dog')"
     ],
     "language": "python",
     "metadata": {},
     "outputs": []
    },
    {
     "cell_type": "markdown",
     "metadata": {},
     "source": [
      "If we ever need to use an assert to compare floating point numbers, we should use a tolerance."
     ]
    },
    {
     "cell_type": "code",
     "collapsed": false,
     "input": [
      "x = 1.2 - 1.0\n",
      "y = 0.2\n",
      "\n",
      "assert (x == y)"
     ],
     "language": "python",
     "metadata": {},
     "outputs": []
    },
    {
     "cell_type": "code",
     "collapsed": false,
     "input": [
      "epsilon = 1e-10\n",
      "\n",
      "assert x-y < epsilon"
     ],
     "language": "python",
     "metadata": {},
     "outputs": []
    }
   ],
   "metadata": {}
  }
 ]
}